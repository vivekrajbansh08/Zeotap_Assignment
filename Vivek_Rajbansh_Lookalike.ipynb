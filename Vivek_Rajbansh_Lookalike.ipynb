{
 "cells": [
  {
   "cell_type": "code",
   "execution_count": 1,
   "id": "be5073d0",
   "metadata": {},
   "outputs": [],
   "source": [
    "import pandas as pd"
   ]
  },
  {
   "cell_type": "code",
   "execution_count": 34,
   "id": "ab74412c",
   "metadata": {},
   "outputs": [],
   "source": [
    "import numpy as np"
   ]
  },
  {
   "cell_type": "code",
   "execution_count": 3,
   "id": "64e74bcf",
   "metadata": {},
   "outputs": [],
   "source": [
    "from sklearn.metrics.pairwise import cosine_similarity"
   ]
  },
  {
   "cell_type": "code",
   "execution_count": 4,
   "id": "1cb60254",
   "metadata": {},
   "outputs": [],
   "source": [
    "from sklearn.preprocessing import MinMaxScaler"
   ]
  },
  {
   "cell_type": "code",
   "execution_count": 24,
   "id": "a13cd06d",
   "metadata": {},
   "outputs": [],
   "source": [
    "from sklearn.metrics import pairwise_distances"
   ]
  },
  {
   "cell_type": "markdown",
   "id": "421df34e",
   "metadata": {},
   "source": [
    "Load Datasets"
   ]
  },
  {
   "cell_type": "code",
   "execution_count": 6,
   "id": "6453b494",
   "metadata": {},
   "outputs": [
    {
     "data": {
      "text/plain": [
       "'C:\\\\Users\\\\Vivek'"
      ]
     },
     "execution_count": 6,
     "metadata": {},
     "output_type": "execute_result"
    }
   ],
   "source": [
    "import os\n",
    "os.getcwd()"
   ]
  },
  {
   "cell_type": "code",
   "execution_count": 7,
   "id": "249dc9dc",
   "metadata": {},
   "outputs": [],
   "source": [
    "os.chdir('C:\\\\Users\\\\Vivek\\Desktop')"
   ]
  },
  {
   "cell_type": "code",
   "execution_count": 8,
   "id": "8de029ba",
   "metadata": {},
   "outputs": [],
   "source": [
    "customers = pd.read_csv(\"Customers.csv\")"
   ]
  },
  {
   "cell_type": "code",
   "execution_count": 9,
   "id": "a07abd86",
   "metadata": {},
   "outputs": [],
   "source": [
    "products = pd.read_csv(\"Products.csv\")"
   ]
  },
  {
   "cell_type": "code",
   "execution_count": 10,
   "id": "42febcca",
   "metadata": {},
   "outputs": [],
   "source": [
    "transactions = pd.read_csv(\"Transactions.csv\")"
   ]
  },
  {
   "cell_type": "code",
   "execution_count": 11,
   "id": "df0ee561",
   "metadata": {},
   "outputs": [],
   "source": [
    "merged_data = transactions.merge(customers, on='CustomerID').merge(products, on='ProductID')"
   ]
  },
  {
   "cell_type": "markdown",
   "id": "9e2500c4",
   "metadata": {},
   "source": [
    "Creating a pivot table"
   ]
  },
  {
   "cell_type": "code",
   "execution_count": 12,
   "id": "1a9a8d51",
   "metadata": {},
   "outputs": [],
   "source": [
    "product_customer_matrix = merged_data.pivot_table(\n",
    "    index='CustomerID', columns='ProductName', values='Quantity', aggfunc='sum'\n",
    ").fillna(0)"
   ]
  },
  {
   "cell_type": "code",
   "execution_count": 33,
   "id": "4e66d879",
   "metadata": {},
   "outputs": [],
   "source": [
    "# Create customer profiles based on spending behavior\n",
    "customer_profile = merged_data.groupby('CustomerID').agg({\n",
    "    'TotalValue': 'sum',\n",
    "    'Quantity': 'sum'\n",
    "}).reset_index()"
   ]
  },
  {
   "cell_type": "code",
   "execution_count": 35,
   "id": "17848024",
   "metadata": {},
   "outputs": [],
   "source": [
    "# Normalize customer profiles\n",
    "customer_profile['TotalValue'] = customer_profile['TotalValue'] / customer_profile['TotalValue'].max()\n",
    "customer_profile['Quantity'] = customer_profile['Quantity'] / customer_profile['Quantity'].max()\n"
   ]
  },
  {
   "cell_type": "code",
   "execution_count": 36,
   "id": "cb01c140",
   "metadata": {},
   "outputs": [],
   "source": [
    "# Compute similarity matrix using cosine similarity\n",
    "profile_matrix = customer_profile[['TotalValue', 'Quantity']].values\n",
    "similarity_matrix = cosine_similarity(profile_matrix)"
   ]
  },
  {
   "cell_type": "code",
   "execution_count": 47,
   "id": "d67c8a4d",
   "metadata": {},
   "outputs": [],
   "source": [
    "# Function to get top 3 lookalikes for each customer\n",
    "def get_top_lookalikes(customer_id, similarity_matrix, customer_profile):\n",
    "    customer_index = customer_profile[customer_profile['CustomerID'] == customer_id].index[0]\n",
    "    similarities = similarity_matrix[customer_index]\n",
    "    similar_customer_indices = similarities.argsort()[-4:-1] \n",
    "    similar_customer_indices = similarities.argsort()[-4:-1]\n",
    "    similar_customers = customer_profile.iloc[similar_customer_indices]\n",
    "    top_lookalikes = [(similar_customer[0], similarities[i]) for i, similar_customer in enumerate(similar_customers.itertuples())]\n",
    "    return top_lookalikes"
   ]
  },
  {
   "cell_type": "markdown",
   "id": "202d9d07",
   "metadata": {},
   "source": [
    "Function to recommend similar products"
   ]
  },
  {
   "cell_type": "code",
   "execution_count": 38,
   "id": "82eff7da",
   "metadata": {},
   "outputs": [],
   "source": [
    "def recommend_products(product_name, top_n=5):\n",
    "    if product_name not in product_similarity_df.index:\n",
    "        return f\"Product '{product_name}' not found in the data.\"\n",
    "    # Sort similar products\n",
    "    similar_products = product_similarity_df[product_name].sort_values(ascending=False)\n",
    "    return similar_products[1:top_n + 1]  "
   ]
  },
  {
   "cell_type": "code",
   "execution_count": 39,
   "id": "325774d2",
   "metadata": {},
   "outputs": [
    {
     "name": "stdout",
     "output_type": "stream",
     "text": [
      "Available product names in the data:\n",
      "['ComfortLiving Bluetooth Speaker' 'HomeSense Wall Art' 'ActiveWear Rug'\n",
      " 'BookWorld Bluetooth Speaker' 'TechPro Rug' 'SoundWave Textbook'\n",
      " 'TechPro Headphones' 'ActiveWear Wall Art' 'BookWorld Cookbook'\n",
      " 'SoundWave Headphones' 'HomeSense Desk Lamp' 'SoundWave Laptop'\n",
      " 'ActiveWear Smartphone' 'TechPro Textbook' 'HomeSense Novel'\n",
      " 'ActiveWear Cookbook' 'SoundWave Jeans' 'SoundWave Mystery Book'\n",
      " 'ActiveWear Jeans' 'BookWorld Sweater' 'ComfortLiving Cookware Set'\n",
      " 'TechPro T-Shirt' 'BookWorld Cookware Set' 'TechPro Vase' 'TechPro Novel'\n",
      " 'SoundWave Jacket' 'ActiveWear T-Shirt' 'BookWorld Rug'\n",
      " 'HomeSense Cookware Set' 'SoundWave Bluetooth Speaker'\n",
      " 'ComfortLiving Desk Lamp' 'BookWorld Smartwatch' 'SoundWave Rug'\n",
      " 'ComfortLiving Biography' 'ActiveWear Running Shoes'\n",
      " 'ActiveWear Textbook' 'ActiveWear Smartwatch' 'HomeSense Rug'\n",
      " 'SoundWave Cookbook' 'TechPro Cookbook' 'SoundWave Novel'\n",
      " 'HomeSense T-Shirt' 'BookWorld Jacket' 'ComfortLiving Smartwatch'\n",
      " 'TechPro Smartwatch' 'BookWorld Biography' 'HomeSense Sweater'\n",
      " 'HomeSense Bluetooth Speaker' 'ComfortLiving Sweater'\n",
      " 'ActiveWear Cookware Set' 'SoundWave Desk Lamp'\n",
      " 'ComfortLiving Smartphone' 'HomeSense Headphones'\n",
      " 'HomeSense Running Shoes' 'ComfortLiving Laptop' 'SoundWave Smartwatch'\n",
      " 'BookWorld Running Shoes' 'ActiveWear Jacket' 'ActiveWear Biography'\n",
      " 'ComfortLiving Rug' 'SoundWave T-Shirt' 'ActiveWear Headphones'\n",
      " 'ComfortLiving Mystery Book' 'TechPro Running Shoes'\n",
      " 'ComfortLiving Headphones' 'BookWorld Wall Art']\n"
     ]
    }
   ],
   "source": [
    "# List all unique product names in the dataset\n",
    "print(\"Available product names in the data:\")\n",
    "print(merged_data['ProductName'].unique())"
   ]
  },
  {
   "cell_type": "code",
   "execution_count": 40,
   "id": "2209d4cd",
   "metadata": {},
   "outputs": [],
   "source": [
    "product_to_recommend = 'ActiveWear T-Shirt'  \n",
    "recommendations = recommend_products(product_to_recommend, top_n=5)"
   ]
  },
  {
   "cell_type": "code",
   "execution_count": 41,
   "id": "2e9ac14c",
   "metadata": {},
   "outputs": [
    {
     "name": "stdout",
     "output_type": "stream",
     "text": [
      "Top recommendations for 'ActiveWear T-Shirt':\n",
      "ProductName\n",
      "SoundWave Jacket           0.262445\n",
      "SoundWave Desk Lamp        0.205971\n",
      "TechPro Running Shoes      0.192785\n",
      "ActiveWear Cookware Set    0.171980\n",
      "ActiveWear Rug             0.169464\n",
      "Name: ActiveWear T-Shirt, dtype: float64\n"
     ]
    }
   ],
   "source": [
    "print(f\"Top recommendations for '{product_to_recommend}':\")\n",
    "print(recommendations)"
   ]
  },
  {
   "cell_type": "markdown",
   "id": "a60d1dd7",
   "metadata": {},
   "source": [
    "Quality of recommendations"
   ]
  },
  {
   "cell_type": "code",
   "execution_count": 42,
   "id": "de6ad7ad",
   "metadata": {},
   "outputs": [],
   "source": [
    "def evaluate_recommendations(product_name):\n",
    "    recommended_products = recommend_products(product_name, top_n=5)\n",
    "    if isinstance(recommended_products, str):  # If the product is not found\n",
    "        return recommended_products\n",
    "    scores = recommended_products.values\n",
    "    quality_score = sum(scores) / len(scores)  # Average similarity score\n",
    "    return quality_score"
   ]
  },
  {
   "cell_type": "markdown",
   "id": "0c9bcb77",
   "metadata": {},
   "source": [
    "Example evaluation"
   ]
  },
  {
   "cell_type": "code",
   "execution_count": 43,
   "id": "bfc19a9a",
   "metadata": {},
   "outputs": [],
   "source": [
    "evaluation_score = evaluate_recommendations(product_to_recommend)"
   ]
  },
  {
   "cell_type": "code",
   "execution_count": 44,
   "id": "c027d11c",
   "metadata": {},
   "outputs": [
    {
     "name": "stdout",
     "output_type": "stream",
     "text": [
      "Quality score for recommendations of 'ActiveWear T-Shirt': 0.2005290732312462\n"
     ]
    }
   ],
   "source": [
    "print(f\"Quality score for recommendations of '{product_to_recommend}': {evaluation_score}\")"
   ]
  },
  {
   "cell_type": "markdown",
   "id": "1f26a9cc",
   "metadata": {},
   "source": [
    "Function to calculate accuracy"
   ]
  },
  {
   "cell_type": "code",
   "execution_count": 45,
   "id": "4bae7c0f",
   "metadata": {},
   "outputs": [
    {
     "name": "stdout",
     "output_type": "stream",
     "text": [
      "Average Similarity Score for Recommendations: 0.9522742227549711\n"
     ]
    }
   ],
   "source": [
    "def evaluate_recommendations(target_product_name, top_recommendations, data):\n",
    "    # Check if the target product exists\n",
    "    if target_product_name not in data['ProductName'].values:\n",
    "        return f\"Product '{target_product_name}' not found in the data.\"\n",
    "\n",
    "    # Get the feature vector for the target product\n",
    "    target_features = data.loc[data['ProductName'] == target_product_name, ['TotalValue', 'Quantity', 'Price_y']]\n",
    "\n",
    "    # Compute similarity scores between target product and others\n",
    "    similarities = cosine_similarity(target_features, data[['TotalValue', 'Quantity', 'Price_y']])\n",
    "    \n",
    "    # Get the indices of the top recommendations\n",
    "    recommended_indices = [data.index[data['ProductName'] == rec].tolist()[0] for rec in top_recommendations]\n",
    "\n",
    "    # Calculate the average similarity score for the recommendations\n",
    "    avg_similarity_score = similarities[0, recommended_indices].mean()\n",
    "    return avg_similarity_score\n",
    "\n",
    "# Example Usage\n",
    "target_product = \"ActiveWear T-Shirt\"  \n",
    "recommended_products = [\"ActiveWear Wall Art\", \"HomeSense Wall Art\", \"ActiveWear T-Shirt\"]  \n",
    "accuracy = evaluate_recommendations(target_product, recommended_products, merged_data)\n",
    "print(f\"Average Similarity Score for Recommendations: {accuracy}\")"
   ]
  },
  {
   "cell_type": "code",
   "execution_count": 48,
   "id": "da4e6d41",
   "metadata": {},
   "outputs": [],
   "source": [
    "# Create the Lookalike CSV\n",
    "lookalike_data = {}\n",
    "for customer_id in customer_profile['CustomerID'][:20]:  # For first 20 customers\n",
    "    lookalike_data[customer_id] = get_top_lookalikes(customer_id, similarity_matrix, customer_profile)\n"
   ]
  },
  {
   "cell_type": "code",
   "execution_count": 49,
   "id": "6280d3d0",
   "metadata": {},
   "outputs": [],
   "source": [
    "# Save to CSV\n",
    "import csv\n",
    "with open('Lookalike.csv', 'w', newline='') as f:\n",
    "    writer = csv.writer(f)\n",
    "    writer.writerow(['CustomerID', 'Lookalikes'])\n",
    "    for customer_id, lookalikes in lookalike_data.items():\n",
    "        lookalikes_str = \"; \".join([f\"{cust_id}: {score:.2f}\" for cust_id, score in lookalikes])\n",
    "        writer.writerow([customer_id, lookalikes_str])"
   ]
  },
  {
   "cell_type": "code",
   "execution_count": null,
   "id": "c2e4e681",
   "metadata": {},
   "outputs": [],
   "source": []
  }
 ],
 "metadata": {
  "kernelspec": {
   "display_name": "Python 3 (ipykernel)",
   "language": "python",
   "name": "python3"
  },
  "language_info": {
   "codemirror_mode": {
    "name": "ipython",
    "version": 3
   },
   "file_extension": ".py",
   "mimetype": "text/x-python",
   "name": "python",
   "nbconvert_exporter": "python",
   "pygments_lexer": "ipython3",
   "version": "3.9.13"
  }
 },
 "nbformat": 4,
 "nbformat_minor": 5
}
